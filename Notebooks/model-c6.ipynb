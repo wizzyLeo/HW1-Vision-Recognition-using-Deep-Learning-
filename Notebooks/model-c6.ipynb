{
 "cells": [
  {
   "cell_type": "code",
   "execution_count": 1,
   "metadata": {},
   "outputs": [],
   "source": [
    "import torch\n",
    "import sys \n",
    "import os \n",
    "\n"
   ]
  },
  {
   "cell_type": "code",
   "execution_count": 2,
   "metadata": {},
   "outputs": [],
   "source": [
    "sys.path.append(os.path.abspath(os.path.join(os.getcwd(), \"..\", \"src\")))\n",
    "from data.make_dataset import get_train_loader, get_test_loader, get_val_loader\n",
    "from visualization.visualize import plot_data_distribution"
   ]
  },
  {
   "cell_type": "code",
   "execution_count": 3,
   "metadata": {},
   "outputs": [
    {
     "name": "stdout",
     "output_type": "stream",
     "text": [
      "Using mps device\n"
     ]
    }
   ],
   "source": [
    "device = torch.accelerator.current_accelerator().type if torch.accelerator.is_available() else \"cpu\"\n",
    "print(f\"Using {device} device\")"
   ]
  },
  {
   "cell_type": "code",
   "execution_count": 4,
   "metadata": {},
   "outputs": [],
   "source": [
    "train_dataset_path = \"/Users/wizzy/Documents/school/vision/project-1/data/train\"\n",
    "val_dataset_path = \"/Users/wizzy/Documents/school/vision/project-1/data/val\"\n",
    "test_dataset_path = \"/Users/wizzy/Documents/school/vision/project-1/data/test\"\n",
    "\n",
    "train_loader = get_train_loader(train_dataset_path)\n",
    "val_loader = get_val_loader(val_dataset_path)\n",
    "test_loader = get_test_loader(test_dataset_path)"
   ]
  },
  {
   "cell_type": "code",
   "execution_count": 5,
   "metadata": {},
   "outputs": [],
   "source": [
    "dataloaders = {}\n",
    "dataloaders['train'] = train_loader\n",
    "dataloaders['val'] = val_loader\n",
    "dataloaders['test'] = test_loader"
   ]
  },
  {
   "cell_type": "code",
   "execution_count": 6,
   "metadata": {},
   "outputs": [],
   "source": [
    "class_names = train_loader.dataset.classes"
   ]
  },
  {
   "cell_type": "markdown",
   "metadata": {},
   "source": [
    "# Structure"
   ]
  },
  {
   "cell_type": "code",
   "execution_count": 7,
   "metadata": {},
   "outputs": [],
   "source": [
    "from torchvision.models import resnet50, ResNet50_Weights\n",
    "from torch.optim import AdamW\n",
    "from torch.optim.lr_scheduler import CosineAnnealingWarmRestarts\n",
    "from collections import Counter\n",
    "import torch.nn as nn\n",
    "import torch\n",
    "from block.block import CBAMBlock, InceptionBlock, SEBlock"
   ]
  },
  {
   "cell_type": "code",
   "execution_count": 8,
   "metadata": {},
   "outputs": [],
   "source": [
    "# Load pretrained model\n",
    "model = resnet50(weights=ResNet50_Weights.DEFAULT)\n",
    "\n",
    "# Freeze early layers\n",
    "for name, param in model.named_parameters():\n",
    "    if \"layer1\" in name or \"layer2\" in name:\n",
    "        param.requires_grad = False\n",
    "\n",
    "# Replace layer3 with CBAM\n",
    "original_layer3 = model.layer3\n",
    "model.layer3 = nn.Sequential(\n",
    "    original_layer3,\n",
    "    CBAMBlock(1024)\n",
    ")\n",
    "\n",
    "# Add Inception block after layer4\n",
    "original_layer4 = model.layer4\n",
    "model.layer4 = nn.Sequential(\n",
    "    original_layer4,\n",
    "    InceptionBlock(2048),  # output channels of layer4\n",
    "    SEBlock(256)\n",
    ")\n",
    "\n",
    "# Get output from Inception\n",
    "num_ftrs = 256  # output channels from InceptionBlock\n",
    "\n",
    "# Classifier head with dropout + GELU + LayerNorm\n",
    "model.fc = nn.Sequential(\n",
    "    nn.Linear(num_ftrs, 256),\n",
    "    nn.LayerNorm(256),\n",
    "    nn.GELU(),\n",
    "    nn.Dropout(0.3),\n",
    "    nn.Linear(256, len(class_names))\n",
    ")\n",
    "\n",
    "# Calculate class weights for CrossEntropyLoss\n",
    "all_labels = [label for _, label in dataloaders['train'].dataset.samples]\n",
    "class_counts = Counter(all_labels)\n",
    "num_samples = sum(class_counts.values())\n",
    "num_classes = len(class_counts)\n",
    "class_weights = [num_samples / class_counts[i] for i in range(num_classes)]\n",
    "class_weights = torch.FloatTensor(class_weights).to(device)\n",
    "class_weights = class_weights / class_weights.sum()\n",
    "\n",
    "# Loss with class weights + label smoothing\n",
    "criterion = nn.CrossEntropyLoss(weight=class_weights, label_smoothing=0.005)\n",
    "\n",
    "# Optimizer and scheduler\n",
    "optimizer = AdamW(filter(lambda p: p.requires_grad, model.parameters()), lr=1e-4, weight_decay=1e-4)\n",
    "scheduler = CosineAnnealingWarmRestarts(optimizer, T_0=3, T_mult=2)\n"
   ]
  },
  {
   "cell_type": "markdown",
   "metadata": {},
   "source": [
    "# Training"
   ]
  },
  {
   "cell_type": "code",
   "execution_count": 9,
   "metadata": {},
   "outputs": [],
   "source": [
    "from models.train_model import train_model"
   ]
  },
  {
   "cell_type": "code",
   "execution_count": 10,
   "metadata": {},
   "outputs": [
    {
     "data": {
      "text/plain": [
       "torch.utils.data.dataloader.DataLoader"
      ]
     },
     "execution_count": 10,
     "metadata": {},
     "output_type": "execute_result"
    }
   ],
   "source": [
    "type(dataloaders['train'])"
   ]
  },
  {
   "cell_type": "code",
   "execution_count": 11,
   "metadata": {},
   "outputs": [],
   "source": [
    "# trained_model, history = train_model(\n",
    "#     model=model,\n",
    "#     criterion=criterion,\n",
    "#     optimizer=optimizer,\n",
    "#     scheduler=scheduler,\n",
    "#     dataloaders=dataloaders,\n",
    "#     num_epochs=40,\n",
    "#     early_stop_patience=10,\n",
    "#     save_path=\"resnet_cbam_incept.pt\"\n",
    "# )"
   ]
  },
  {
   "cell_type": "code",
   "execution_count": null,
   "metadata": {},
   "outputs": [
    {
     "data": {
      "text/plain": [
       "<All keys matched successfully>"
      ]
     },
     "execution_count": 12,
     "metadata": {},
     "output_type": "execute_result"
    }
   ],
   "source": [
    "model.load_state_dict(torch.load(\"/Users/wizzy/Documents/school/vision/project-1/checkpoints/resnet_cbam_incept.pt\", map_location=device))"
   ]
  },
  {
   "cell_type": "code",
   "execution_count": 13,
   "metadata": {},
   "outputs": [],
   "source": [
    "from models.predict_model import predict_model\n",
    "predict_model(model, dataloaders['test'], save_path=\"c6-pred.csv\")"
   ]
  }
 ],
 "metadata": {
  "kernelspec": {
   "display_name": "vision-pkgs",
   "language": "python",
   "name": "python3"
  },
  "language_info": {
   "codemirror_mode": {
    "name": "ipython",
    "version": 3
   },
   "file_extension": ".py",
   "mimetype": "text/x-python",
   "name": "python",
   "nbconvert_exporter": "python",
   "pygments_lexer": "ipython3",
   "version": "3.13.2"
  }
 },
 "nbformat": 4,
 "nbformat_minor": 2
}
