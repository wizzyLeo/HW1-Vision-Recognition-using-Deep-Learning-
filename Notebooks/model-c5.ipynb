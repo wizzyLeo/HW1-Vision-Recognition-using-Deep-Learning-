{
 "cells": [
  {
   "cell_type": "code",
   "execution_count": 1,
   "metadata": {},
   "outputs": [],
   "source": [
    "import torch\n",
    "import sys \n",
    "import os \n",
    "\n"
   ]
  },
  {
   "cell_type": "code",
   "execution_count": 2,
   "metadata": {},
   "outputs": [],
   "source": [
    "sys.path.append(os.path.abspath(os.path.join(os.getcwd(), \"..\", \"src\")))\n",
    "from data.make_dataset import get_train_loader, get_test_loader, get_val_loader\n",
    "from visualization.visualize import plot_data_distribution"
   ]
  },
  {
   "cell_type": "code",
   "execution_count": 3,
   "metadata": {},
   "outputs": [
    {
     "name": "stdout",
     "output_type": "stream",
     "text": [
      "Using mps device\n"
     ]
    }
   ],
   "source": [
    "device = torch.accelerator.current_accelerator().type if torch.accelerator.is_available() else \"cpu\"\n",
    "print(f\"Using {device} device\")"
   ]
  },
  {
   "cell_type": "code",
   "execution_count": 4,
   "metadata": {},
   "outputs": [],
   "source": [
    "train_dataset_path = \"/Users/wizzy/Documents/school/vision/project-1/data/train\"\n",
    "val_dataset_path = \"/Users/wizzy/Documents/school/vision/project-1/data/val\"\n",
    "test_dataset_path = \"/Users/wizzy/Documents/school/vision/project-1/data/test\"\n",
    "\n",
    "train_loader = get_train_loader(train_dataset_path)\n",
    "val_loader = get_val_loader(val_dataset_path)\n",
    "test_loader = get_test_loader(test_dataset_path)"
   ]
  },
  {
   "cell_type": "code",
   "execution_count": 5,
   "metadata": {},
   "outputs": [],
   "source": [
    "dataloaders = {}\n",
    "dataloaders['train'] = train_loader\n",
    "dataloaders['val'] = val_loader\n",
    "dataloaders['test'] = test_loader"
   ]
  },
  {
   "cell_type": "markdown",
   "metadata": {},
   "source": [
    "# Structure"
   ]
  },
  {
   "cell_type": "code",
   "execution_count": 6,
   "metadata": {},
   "outputs": [],
   "source": [
    "from torchvision.models import resnet50, ResNet50_Weights\n",
    "from torch.optim import AdamW\n",
    "from torch.optim.lr_scheduler import CosineAnnealingWarmRestarts\n",
    "from collections import Counter\n",
    "import torch.nn as nn\n",
    "import torch\n",
    "from block.block import CBAMBlock, InceptionBlock, SEBlock"
   ]
  },
  {
   "cell_type": "code",
   "execution_count": 7,
   "metadata": {},
   "outputs": [],
   "source": [
    "# Load pretrained model\n",
    "model = resnet50(weights=ResNet50_Weights.DEFAULT)\n",
    "\n",
    "# Freeze early layers\n",
    "for name, param in model.named_parameters():\n",
    "    if \"layer1\" in name or \"layer2\" in name:\n",
    "        param.requires_grad = False\n",
    "\n",
    "# Replace layer3 with CBAM\n",
    "original_layer3 = model.layer3\n",
    "model.layer3 = nn.Sequential(\n",
    "    original_layer3,\n",
    "    CBAMBlock(1024)\n",
    ")\n",
    "\n",
    "# Add Inception block after layer4\n",
    "original_layer4 = model.layer4\n",
    "model.layer4 = nn.Sequential(\n",
    "    original_layer4,\n",
    "    InceptionBlock(2048),  # output channels of layer4\n",
    "    SEBlock(256)\n",
    ")\n",
    "\n",
    "# Get output from Inception\n",
    "num_ftrs = 256  # output channels from InceptionBlock\n",
    "class_names = train_loader.dataset.classes\n",
    "# Classifier head with dropout + GELU + LayerNorm\n",
    "model.fc = nn.Sequential(\n",
    "    nn.Linear(num_ftrs, 256),\n",
    "    nn.LayerNorm(256),\n",
    "    nn.GELU(),\n",
    "    nn.Dropout(0.3),\n",
    "    nn.Linear(256, len(class_names))\n",
    ")\n",
    "\n",
    "# Calculate class weights for CrossEntropyLoss\n",
    "all_labels = [label for _, label in dataloaders['train'].dataset.samples]\n",
    "class_counts = Counter(all_labels)\n",
    "num_samples = sum(class_counts.values())\n",
    "num_classes = len(class_counts)\n",
    "class_weights = [num_samples / class_counts[i] for i in range(num_classes)]\n",
    "class_weights = torch.FloatTensor(class_weights).to(device)\n",
    "class_weights = class_weights / class_weights.sum()\n",
    "\n",
    "# Loss with class weights + label smoothing\n",
    "criterion = nn.CrossEntropyLoss(weight=class_weights, label_smoothing=0.005)\n",
    "\n",
    "# Optimizer and scheduler\n",
    "optimizer = AdamW(filter(lambda p: p.requires_grad, model.parameters()), lr=1e-4, weight_decay=1e-4)\n",
    "scheduler = CosineAnnealingWarmRestarts(optimizer, T_0=3, T_mult=2)\n"
   ]
  },
  {
   "cell_type": "markdown",
   "metadata": {},
   "source": [
    "# Training"
   ]
  },
  {
   "cell_type": "code",
   "execution_count": 8,
   "metadata": {},
   "outputs": [],
   "source": [
    "from models.train_model import train_model"
   ]
  },
  {
   "cell_type": "code",
   "execution_count": 9,
   "metadata": {},
   "outputs": [
    {
     "data": {
      "text/plain": [
       "torch.utils.data.dataloader.DataLoader"
      ]
     },
     "execution_count": 9,
     "metadata": {},
     "output_type": "execute_result"
    }
   ],
   "source": [
    "type(dataloaders['train'])"
   ]
  },
  {
   "cell_type": "code",
   "execution_count": 10,
   "metadata": {},
   "outputs": [],
   "source": [
    "# trained_model, history = train_model(\n",
    "#     model=model,\n",
    "#     criterion=criterion,\n",
    "#     optimizer=optimizer,\n",
    "#     scheduler=scheduler,\n",
    "#     dataloaders=dataloaders,\n",
    "#     num_epochs=40,\n",
    "#     early_stop_patience=10,\n",
    "#     save_path=\"resnet_cbam_incept.pt\"\n",
    "# )"
   ]
  },
  {
   "cell_type": "code",
   "execution_count": 11,
   "metadata": {},
   "outputs": [],
   "source": [
    "from models.predict_model import predict_model"
   ]
  },
  {
   "cell_type": "code",
   "execution_count": 15,
   "metadata": {},
   "outputs": [
    {
     "data": {
      "text/plain": [
       "<All keys matched successfully>"
      ]
     },
     "execution_count": 15,
     "metadata": {},
     "output_type": "execute_result"
    }
   ],
   "source": [
    "model.load_state_dict(torch.load(\"/Users/wizzy/Documents/school/vision/project-1/checkpoints/resnet_cbam_incept.pt\", map_location=device))"
   ]
  },
  {
   "cell_type": "code",
   "execution_count": 16,
   "metadata": {},
   "outputs": [
    {
     "name": "stdout",
     "output_type": "stream",
     "text": [
      "\n",
      "🔁 Epoch 1/40\n",
      "------------------------------\n"
     ]
    },
    {
     "name": "stderr",
     "output_type": "stream",
     "text": [
      "python(8182) MallocStackLogging: can't turn off malloc stack logging because it was not enabled.\n",
      "python(8183) MallocStackLogging: can't turn off malloc stack logging because it was not enabled.\n",
      "python(8184) MallocStackLogging: can't turn off malloc stack logging because it was not enabled.\n",
      "python(8185) MallocStackLogging: can't turn off malloc stack logging because it was not enabled.\n"
     ]
    },
    {
     "name": "stdout",
     "output_type": "stream",
     "text": [
      "🟢 Train    | Loss: 0.3159 | Acc: 0.9307\n"
     ]
    },
    {
     "name": "stderr",
     "output_type": "stream",
     "text": [
      "python(8315) MallocStackLogging: can't turn off malloc stack logging because it was not enabled.\n",
      "python(8316) MallocStackLogging: can't turn off malloc stack logging because it was not enabled.\n",
      "python(8317) MallocStackLogging: can't turn off malloc stack logging because it was not enabled.\n",
      "python(8318) MallocStackLogging: can't turn off malloc stack logging because it was not enabled.\n"
     ]
    },
    {
     "name": "stdout",
     "output_type": "stream",
     "text": [
      "🔵 Val      | Loss: 1.0182 | Acc: 0.8400\n",
      "✅ New best model saved at: ../checkpoints/resnet_cbam_incept.pt\n",
      "\n",
      "🔁 Epoch 2/40\n",
      "------------------------------\n"
     ]
    },
    {
     "name": "stderr",
     "output_type": "stream",
     "text": [
      "python(8345) MallocStackLogging: can't turn off malloc stack logging because it was not enabled.\n",
      "python(8346) MallocStackLogging: can't turn off malloc stack logging because it was not enabled.\n",
      "python(8348) MallocStackLogging: can't turn off malloc stack logging because it was not enabled.\n",
      "python(8350) MallocStackLogging: can't turn off malloc stack logging because it was not enabled.\n"
     ]
    },
    {
     "name": "stdout",
     "output_type": "stream",
     "text": [
      "🟢 Train    | Loss: 0.3367 | Acc: 0.9267\n"
     ]
    },
    {
     "name": "stderr",
     "output_type": "stream",
     "text": [
      "python(8618) MallocStackLogging: can't turn off malloc stack logging because it was not enabled.\n",
      "python(8619) MallocStackLogging: can't turn off malloc stack logging because it was not enabled.\n",
      "python(8620) MallocStackLogging: can't turn off malloc stack logging because it was not enabled.\n",
      "python(8621) MallocStackLogging: can't turn off malloc stack logging because it was not enabled.\n"
     ]
    },
    {
     "name": "stdout",
     "output_type": "stream",
     "text": [
      "🔵 Val      | Loss: 0.9865 | Acc: 0.8233\n",
      "⚠️ No improvement for 1 epoch(s)\n",
      "\n",
      "🔁 Epoch 3/40\n",
      "------------------------------\n"
     ]
    },
    {
     "name": "stderr",
     "output_type": "stream",
     "text": [
      "python(8627) MallocStackLogging: can't turn off malloc stack logging because it was not enabled.\n",
      "python(8628) MallocStackLogging: can't turn off malloc stack logging because it was not enabled.\n",
      "python(8629) MallocStackLogging: can't turn off malloc stack logging because it was not enabled.\n",
      "python(8630) MallocStackLogging: can't turn off malloc stack logging because it was not enabled.\n"
     ]
    },
    {
     "name": "stdout",
     "output_type": "stream",
     "text": [
      "🟢 Train    | Loss: 0.2573 | Acc: 0.9514\n"
     ]
    },
    {
     "name": "stderr",
     "output_type": "stream",
     "text": [
      "python(8838) MallocStackLogging: can't turn off malloc stack logging because it was not enabled.\n",
      "python(8839) MallocStackLogging: can't turn off malloc stack logging because it was not enabled.\n",
      "python(8840) MallocStackLogging: can't turn off malloc stack logging because it was not enabled.\n",
      "python(8841) MallocStackLogging: can't turn off malloc stack logging because it was not enabled.\n"
     ]
    },
    {
     "name": "stdout",
     "output_type": "stream",
     "text": [
      "🔵 Val      | Loss: 0.9401 | Acc: 0.8567\n",
      "✅ New best model saved at: ../checkpoints/resnet_cbam_incept.pt\n",
      "\n",
      "🔁 Epoch 4/40\n",
      "------------------------------\n"
     ]
    },
    {
     "name": "stderr",
     "output_type": "stream",
     "text": [
      "python(8866) MallocStackLogging: can't turn off malloc stack logging because it was not enabled.\n",
      "python(8867) MallocStackLogging: can't turn off malloc stack logging because it was not enabled.\n",
      "python(8869) MallocStackLogging: can't turn off malloc stack logging because it was not enabled.\n",
      "python(8870) MallocStackLogging: can't turn off malloc stack logging because it was not enabled.\n"
     ]
    },
    {
     "name": "stdout",
     "output_type": "stream",
     "text": [
      "🟢 Train    | Loss: 0.2921 | Acc: 0.9406\n"
     ]
    },
    {
     "name": "stderr",
     "output_type": "stream",
     "text": [
      "python(9091) MallocStackLogging: can't turn off malloc stack logging because it was not enabled.\n",
      "python(9092) MallocStackLogging: can't turn off malloc stack logging because it was not enabled.\n",
      "python(9093) MallocStackLogging: can't turn off malloc stack logging because it was not enabled.\n",
      "python(9094) MallocStackLogging: can't turn off malloc stack logging because it was not enabled.\n"
     ]
    },
    {
     "name": "stdout",
     "output_type": "stream",
     "text": [
      "🔵 Val      | Loss: 1.0652 | Acc: 0.8133\n",
      "⚠️ No improvement for 1 epoch(s)\n",
      "\n",
      "🔁 Epoch 5/40\n",
      "------------------------------\n"
     ]
    },
    {
     "name": "stderr",
     "output_type": "stream",
     "text": [
      "python(9101) MallocStackLogging: can't turn off malloc stack logging because it was not enabled.\n",
      "python(9102) MallocStackLogging: can't turn off malloc stack logging because it was not enabled.\n",
      "python(9103) MallocStackLogging: can't turn off malloc stack logging because it was not enabled.\n",
      "python(9104) MallocStackLogging: can't turn off malloc stack logging because it was not enabled.\n"
     ]
    },
    {
     "name": "stdout",
     "output_type": "stream",
     "text": [
      "🟢 Train    | Loss: 0.2762 | Acc: 0.9466\n"
     ]
    },
    {
     "name": "stderr",
     "output_type": "stream",
     "text": [
      "python(9260) MallocStackLogging: can't turn off malloc stack logging because it was not enabled.\n",
      "python(9261) MallocStackLogging: can't turn off malloc stack logging because it was not enabled.\n",
      "python(9262) MallocStackLogging: can't turn off malloc stack logging because it was not enabled.\n",
      "python(9263) MallocStackLogging: can't turn off malloc stack logging because it was not enabled.\n"
     ]
    },
    {
     "name": "stdout",
     "output_type": "stream",
     "text": [
      "🔵 Val      | Loss: 1.0079 | Acc: 0.8433\n",
      "⚠️ No improvement for 2 epoch(s)\n",
      "\n",
      "🔁 Epoch 6/40\n",
      "------------------------------\n"
     ]
    },
    {
     "name": "stderr",
     "output_type": "stream",
     "text": [
      "python(9268) MallocStackLogging: can't turn off malloc stack logging because it was not enabled.\n",
      "python(9269) MallocStackLogging: can't turn off malloc stack logging because it was not enabled.\n",
      "python(9270) MallocStackLogging: can't turn off malloc stack logging because it was not enabled.\n",
      "python(9271) MallocStackLogging: can't turn off malloc stack logging because it was not enabled.\n"
     ]
    },
    {
     "name": "stdout",
     "output_type": "stream",
     "text": [
      "🟢 Train    | Loss: 0.2306 | Acc: 0.9580\n"
     ]
    },
    {
     "name": "stderr",
     "output_type": "stream",
     "text": [
      "python(9558) MallocStackLogging: can't turn off malloc stack logging because it was not enabled.\n",
      "python(9559) MallocStackLogging: can't turn off malloc stack logging because it was not enabled.\n",
      "python(9560) MallocStackLogging: can't turn off malloc stack logging because it was not enabled.\n",
      "python(9561) MallocStackLogging: can't turn off malloc stack logging because it was not enabled.\n"
     ]
    },
    {
     "name": "stdout",
     "output_type": "stream",
     "text": [
      "🔵 Val      | Loss: 1.0039 | Acc: 0.8567\n",
      "⚠️ No improvement for 3 epoch(s)\n",
      "\n",
      "🔁 Epoch 7/40\n",
      "------------------------------\n"
     ]
    },
    {
     "name": "stderr",
     "output_type": "stream",
     "text": [
      "python(9566) MallocStackLogging: can't turn off malloc stack logging because it was not enabled.\n",
      "python(9567) MallocStackLogging: can't turn off malloc stack logging because it was not enabled.\n",
      "python(9568) MallocStackLogging: can't turn off malloc stack logging because it was not enabled.\n",
      "python(9569) MallocStackLogging: can't turn off malloc stack logging because it was not enabled.\n"
     ]
    },
    {
     "name": "stdout",
     "output_type": "stream",
     "text": [
      "🟢 Train    | Loss: 0.2038 | Acc: 0.9674\n"
     ]
    },
    {
     "name": "stderr",
     "output_type": "stream",
     "text": [
      "python(9791) MallocStackLogging: can't turn off malloc stack logging because it was not enabled.\n",
      "python(9792) MallocStackLogging: can't turn off malloc stack logging because it was not enabled.\n",
      "python(9793) MallocStackLogging: can't turn off malloc stack logging because it was not enabled.\n",
      "python(9794) MallocStackLogging: can't turn off malloc stack logging because it was not enabled.\n"
     ]
    },
    {
     "name": "stdout",
     "output_type": "stream",
     "text": [
      "🔵 Val      | Loss: 0.9349 | Acc: 0.8667\n",
      "✅ New best model saved at: ../checkpoints/resnet_cbam_incept.pt\n",
      "\n",
      "🔁 Epoch 8/40\n",
      "------------------------------\n"
     ]
    },
    {
     "name": "stderr",
     "output_type": "stream",
     "text": [
      "python(9799) MallocStackLogging: can't turn off malloc stack logging because it was not enabled.\n",
      "python(9800) MallocStackLogging: can't turn off malloc stack logging because it was not enabled.\n",
      "python(9801) MallocStackLogging: can't turn off malloc stack logging because it was not enabled.\n",
      "python(9802) MallocStackLogging: can't turn off malloc stack logging because it was not enabled.\n"
     ]
    },
    {
     "name": "stdout",
     "output_type": "stream",
     "text": [
      "🟢 Train    | Loss: 0.2679 | Acc: 0.9459\n"
     ]
    },
    {
     "name": "stderr",
     "output_type": "stream",
     "text": [
      "python(10051) MallocStackLogging: can't turn off malloc stack logging because it was not enabled.\n",
      "python(10052) MallocStackLogging: can't turn off malloc stack logging because it was not enabled.\n",
      "python(10053) MallocStackLogging: can't turn off malloc stack logging because it was not enabled.\n",
      "python(10054) MallocStackLogging: can't turn off malloc stack logging because it was not enabled.\n"
     ]
    },
    {
     "name": "stdout",
     "output_type": "stream",
     "text": [
      "🔵 Val      | Loss: 0.9463 | Acc: 0.8333\n",
      "⚠️ No improvement for 1 epoch(s)\n",
      "\n",
      "🔁 Epoch 9/40\n",
      "------------------------------\n"
     ]
    },
    {
     "name": "stderr",
     "output_type": "stream",
     "text": [
      "python(10061) MallocStackLogging: can't turn off malloc stack logging because it was not enabled.\n",
      "python(10062) MallocStackLogging: can't turn off malloc stack logging because it was not enabled.\n",
      "python(10063) MallocStackLogging: can't turn off malloc stack logging because it was not enabled.\n",
      "python(10064) MallocStackLogging: can't turn off malloc stack logging because it was not enabled.\n"
     ]
    },
    {
     "name": "stdout",
     "output_type": "stream",
     "text": [
      "🟢 Train    | Loss: 0.2889 | Acc: 0.9420\n"
     ]
    },
    {
     "name": "stderr",
     "output_type": "stream",
     "text": [
      "python(10268) MallocStackLogging: can't turn off malloc stack logging because it was not enabled.\n",
      "python(10269) MallocStackLogging: can't turn off malloc stack logging because it was not enabled.\n",
      "python(10270) MallocStackLogging: can't turn off malloc stack logging because it was not enabled.\n",
      "python(10271) MallocStackLogging: can't turn off malloc stack logging because it was not enabled.\n"
     ]
    },
    {
     "name": "stdout",
     "output_type": "stream",
     "text": [
      "🔵 Val      | Loss: 1.0755 | Acc: 0.8467\n",
      "⚠️ No improvement for 2 epoch(s)\n",
      "\n",
      "🔁 Epoch 10/40\n",
      "------------------------------\n"
     ]
    },
    {
     "name": "stderr",
     "output_type": "stream",
     "text": [
      "python(10290) MallocStackLogging: can't turn off malloc stack logging because it was not enabled.\n",
      "python(10291) MallocStackLogging: can't turn off malloc stack logging because it was not enabled.\n",
      "python(10292) MallocStackLogging: can't turn off malloc stack logging because it was not enabled.\n",
      "python(10293) MallocStackLogging: can't turn off malloc stack logging because it was not enabled.\n"
     ]
    },
    {
     "name": "stdout",
     "output_type": "stream",
     "text": [
      "🟢 Train    | Loss: 0.2645 | Acc: 0.9498\n"
     ]
    },
    {
     "name": "stderr",
     "output_type": "stream",
     "text": [
      "python(10512) MallocStackLogging: can't turn off malloc stack logging because it was not enabled.\n",
      "python(10513) MallocStackLogging: can't turn off malloc stack logging because it was not enabled.\n",
      "python(10514) MallocStackLogging: can't turn off malloc stack logging because it was not enabled.\n",
      "python(10515) MallocStackLogging: can't turn off malloc stack logging because it was not enabled.\n"
     ]
    },
    {
     "name": "stdout",
     "output_type": "stream",
     "text": [
      "🔵 Val      | Loss: 0.9909 | Acc: 0.8400\n",
      "⚠️ No improvement for 3 epoch(s)\n",
      "\n",
      "🔁 Epoch 11/40\n",
      "------------------------------\n"
     ]
    },
    {
     "name": "stderr",
     "output_type": "stream",
     "text": [
      "python(10520) MallocStackLogging: can't turn off malloc stack logging because it was not enabled.\n",
      "python(10521) MallocStackLogging: can't turn off malloc stack logging because it was not enabled.\n",
      "python(10522) MallocStackLogging: can't turn off malloc stack logging because it was not enabled.\n",
      "python(10523) MallocStackLogging: can't turn off malloc stack logging because it was not enabled.\n"
     ]
    },
    {
     "name": "stdout",
     "output_type": "stream",
     "text": [
      "🟢 Train    | Loss: 0.2515 | Acc: 0.9543\n"
     ]
    },
    {
     "name": "stderr",
     "output_type": "stream",
     "text": [
      "python(10775) MallocStackLogging: can't turn off malloc stack logging because it was not enabled.\n",
      "python(10776) MallocStackLogging: can't turn off malloc stack logging because it was not enabled.\n",
      "python(10777) MallocStackLogging: can't turn off malloc stack logging because it was not enabled.\n",
      "python(10778) MallocStackLogging: can't turn off malloc stack logging because it was not enabled.\n"
     ]
    },
    {
     "name": "stdout",
     "output_type": "stream",
     "text": [
      "🔵 Val      | Loss: 1.0145 | Acc: 0.8400\n",
      "⚠️ No improvement for 4 epoch(s)\n",
      "\n",
      "🔁 Epoch 12/40\n",
      "------------------------------\n"
     ]
    },
    {
     "name": "stderr",
     "output_type": "stream",
     "text": [
      "python(10784) MallocStackLogging: can't turn off malloc stack logging because it was not enabled.\n",
      "python(10785) MallocStackLogging: can't turn off malloc stack logging because it was not enabled.\n",
      "python(10786) MallocStackLogging: can't turn off malloc stack logging because it was not enabled.\n",
      "python(10787) MallocStackLogging: can't turn off malloc stack logging because it was not enabled.\n"
     ]
    },
    {
     "name": "stdout",
     "output_type": "stream",
     "text": [
      "🟢 Train    | Loss: 0.2158 | Acc: 0.9647\n"
     ]
    },
    {
     "name": "stderr",
     "output_type": "stream",
     "text": [
      "python(10931) MallocStackLogging: can't turn off malloc stack logging because it was not enabled.\n",
      "python(10932) MallocStackLogging: can't turn off malloc stack logging because it was not enabled.\n",
      "python(10933) MallocStackLogging: can't turn off malloc stack logging because it was not enabled.\n",
      "python(10934) MallocStackLogging: can't turn off malloc stack logging because it was not enabled.\n"
     ]
    },
    {
     "name": "stdout",
     "output_type": "stream",
     "text": [
      "🔵 Val      | Loss: 1.0303 | Acc: 0.8467\n",
      "⚠️ No improvement for 5 epoch(s)\n",
      "\n",
      "🔁 Epoch 13/40\n",
      "------------------------------\n"
     ]
    },
    {
     "name": "stderr",
     "output_type": "stream",
     "text": [
      "python(10959) MallocStackLogging: can't turn off malloc stack logging because it was not enabled.\n",
      "python(10960) MallocStackLogging: can't turn off malloc stack logging because it was not enabled.\n",
      "python(10961) MallocStackLogging: can't turn off malloc stack logging because it was not enabled.\n",
      "python(10962) MallocStackLogging: can't turn off malloc stack logging because it was not enabled.\n"
     ]
    },
    {
     "name": "stdout",
     "output_type": "stream",
     "text": [
      "🟢 Train    | Loss: 0.1946 | Acc: 0.9703\n"
     ]
    },
    {
     "name": "stderr",
     "output_type": "stream",
     "text": [
      "python(11174) MallocStackLogging: can't turn off malloc stack logging because it was not enabled.\n",
      "python(11175) MallocStackLogging: can't turn off malloc stack logging because it was not enabled.\n",
      "python(11176) MallocStackLogging: can't turn off malloc stack logging because it was not enabled.\n",
      "python(11177) MallocStackLogging: can't turn off malloc stack logging because it was not enabled.\n"
     ]
    },
    {
     "name": "stdout",
     "output_type": "stream",
     "text": [
      "🔵 Val      | Loss: 0.9678 | Acc: 0.8533\n",
      "⚠️ No improvement for 6 epoch(s)\n",
      "\n",
      "🔁 Epoch 14/40\n",
      "------------------------------\n"
     ]
    },
    {
     "name": "stderr",
     "output_type": "stream",
     "text": [
      "python(11182) MallocStackLogging: can't turn off malloc stack logging because it was not enabled.\n",
      "python(11183) MallocStackLogging: can't turn off malloc stack logging because it was not enabled.\n",
      "python(11184) MallocStackLogging: can't turn off malloc stack logging because it was not enabled.\n",
      "python(11185) MallocStackLogging: can't turn off malloc stack logging because it was not enabled.\n"
     ]
    },
    {
     "name": "stdout",
     "output_type": "stream",
     "text": [
      "🟢 Train    | Loss: 0.1855 | Acc: 0.9734\n"
     ]
    },
    {
     "name": "stderr",
     "output_type": "stream",
     "text": [
      "python(11383) MallocStackLogging: can't turn off malloc stack logging because it was not enabled.\n",
      "python(11384) MallocStackLogging: can't turn off malloc stack logging because it was not enabled.\n",
      "python(11385) MallocStackLogging: can't turn off malloc stack logging because it was not enabled.\n",
      "python(11386) MallocStackLogging: can't turn off malloc stack logging because it was not enabled.\n"
     ]
    },
    {
     "name": "stdout",
     "output_type": "stream",
     "text": [
      "🔵 Val      | Loss: 0.9527 | Acc: 0.8567\n",
      "⚠️ No improvement for 7 epoch(s)\n",
      "\n",
      "🔁 Epoch 15/40\n",
      "------------------------------\n"
     ]
    },
    {
     "name": "stderr",
     "output_type": "stream",
     "text": [
      "python(11391) MallocStackLogging: can't turn off malloc stack logging because it was not enabled.\n",
      "python(11392) MallocStackLogging: can't turn off malloc stack logging because it was not enabled.\n",
      "python(11393) MallocStackLogging: can't turn off malloc stack logging because it was not enabled.\n",
      "python(11394) MallocStackLogging: can't turn off malloc stack logging because it was not enabled.\n"
     ]
    },
    {
     "name": "stdout",
     "output_type": "stream",
     "text": [
      "🟢 Train    | Loss: 0.1757 | Acc: 0.9764\n"
     ]
    },
    {
     "name": "stderr",
     "output_type": "stream",
     "text": [
      "python(11632) MallocStackLogging: can't turn off malloc stack logging because it was not enabled.\n",
      "python(11633) MallocStackLogging: can't turn off malloc stack logging because it was not enabled.\n",
      "python(11634) MallocStackLogging: can't turn off malloc stack logging because it was not enabled.\n",
      "python(11635) MallocStackLogging: can't turn off malloc stack logging because it was not enabled.\n"
     ]
    },
    {
     "name": "stdout",
     "output_type": "stream",
     "text": [
      "🔵 Val      | Loss: 0.9860 | Acc: 0.8567\n",
      "⚠️ No improvement for 8 epoch(s)\n",
      "\n",
      "🔁 Epoch 16/40\n",
      "------------------------------\n"
     ]
    },
    {
     "name": "stderr",
     "output_type": "stream",
     "text": [
      "python(11640) MallocStackLogging: can't turn off malloc stack logging because it was not enabled.\n",
      "python(11641) MallocStackLogging: can't turn off malloc stack logging because it was not enabled.\n",
      "python(11642) MallocStackLogging: can't turn off malloc stack logging because it was not enabled.\n",
      "python(11643) MallocStackLogging: can't turn off malloc stack logging because it was not enabled.\n"
     ]
    },
    {
     "name": "stdout",
     "output_type": "stream",
     "text": [
      "🟢 Train    | Loss: 0.2671 | Acc: 0.9483\n"
     ]
    },
    {
     "name": "stderr",
     "output_type": "stream",
     "text": [
      "python(11809) MallocStackLogging: can't turn off malloc stack logging because it was not enabled.\n",
      "python(11810) MallocStackLogging: can't turn off malloc stack logging because it was not enabled.\n",
      "python(11811) MallocStackLogging: can't turn off malloc stack logging because it was not enabled.\n",
      "python(11812) MallocStackLogging: can't turn off malloc stack logging because it was not enabled.\n"
     ]
    },
    {
     "name": "stdout",
     "output_type": "stream",
     "text": [
      "🔵 Val      | Loss: 1.1089 | Acc: 0.8233\n",
      "⚠️ No improvement for 9 epoch(s)\n",
      "\n",
      "🔁 Epoch 17/40\n",
      "------------------------------\n"
     ]
    },
    {
     "name": "stderr",
     "output_type": "stream",
     "text": [
      "python(11817) MallocStackLogging: can't turn off malloc stack logging because it was not enabled.\n",
      "python(11818) MallocStackLogging: can't turn off malloc stack logging because it was not enabled.\n",
      "python(11819) MallocStackLogging: can't turn off malloc stack logging because it was not enabled.\n",
      "python(11820) MallocStackLogging: can't turn off malloc stack logging because it was not enabled.\n"
     ]
    },
    {
     "name": "stdout",
     "output_type": "stream",
     "text": [
      "🟢 Train    | Loss: 0.2838 | Acc: 0.9452\n"
     ]
    },
    {
     "name": "stderr",
     "output_type": "stream",
     "text": [
      "python(12028) MallocStackLogging: can't turn off malloc stack logging because it was not enabled.\n",
      "python(12029) MallocStackLogging: can't turn off malloc stack logging because it was not enabled.\n",
      "python(12030) MallocStackLogging: can't turn off malloc stack logging because it was not enabled.\n",
      "python(12031) MallocStackLogging: can't turn off malloc stack logging because it was not enabled.\n"
     ]
    },
    {
     "name": "stdout",
     "output_type": "stream",
     "text": [
      "🔵 Val      | Loss: 1.0929 | Acc: 0.8167\n",
      "⚠️ No improvement for 10 epoch(s)\n",
      "⛔ Early stopping triggered.\n",
      "\n",
      "🏁 Training complete in 150m 46s\n",
      "🏆 Best Validation Accuracy: 0.8667\n"
     ]
    }
   ],
   "source": [
    "scheduler = CosineAnnealingWarmRestarts(optimizer, T_0=1, T_mult=2)\n",
    "trained_model, history = train_model(\n",
    "    model=model,\n",
    "    criterion=criterion,\n",
    "    optimizer=optimizer,\n",
    "    scheduler=scheduler,\n",
    "    dataloaders=dataloaders,\n",
    "    num_epochs=40,\n",
    "    early_stop_patience=10,\n",
    "    save_path=\"resnet_cbam_incept.pt\"\n",
    ")"
   ]
  },
  {
   "cell_type": "code",
   "execution_count": 13,
   "metadata": {},
   "outputs": [],
   "source": [
    "predict_model(model, dataloaders['test'], save_path=\"c5-pred.csv\")"
   ]
  }
 ],
 "metadata": {
  "kernelspec": {
   "display_name": "vision-pkgs",
   "language": "python",
   "name": "python3"
  },
  "language_info": {
   "codemirror_mode": {
    "name": "ipython",
    "version": 3
   },
   "file_extension": ".py",
   "mimetype": "text/x-python",
   "name": "python",
   "nbconvert_exporter": "python",
   "pygments_lexer": "ipython3",
   "version": "3.13.2"
  }
 },
 "nbformat": 4,
 "nbformat_minor": 2
}
